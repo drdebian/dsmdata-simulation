{
 "cells": [
  {
   "cell_type": "markdown",
   "id": "c506c8be",
   "metadata": {},
   "source": [
    "Analysis of Simulation Studies\n",
    "----------\n",
    "Author: Albert Ulmer  \n",
    "Date: 2022-06-04 - 2022-06-30"
   ]
  },
  {
   "cell_type": "code",
   "execution_count": null,
   "id": "e6349ed5",
   "metadata": {},
   "outputs": [],
   "source": [
    "# autoreload packages\n",
    "%load_ext autoreload\n",
    "%autoreload 2\n",
    "\n",
    "# import data & plotting libraries\n",
    "import numpy as np\n",
    "import pandas as pd\n",
    "import datetime as dt\n",
    "import time\n",
    "import matplotlib.pyplot as plt\n",
    "#plt.style.use('ggplot')\n",
    "plt.style.use('default')\n",
    "\n",
    "from matplotlib import cm\n",
    "import sqlite3\n",
    "\n",
    "# import own libraries\n",
    "import util\n",
    "import plot\n",
    "import config\n",
    "\n",
    "\n"
   ]
  },
  {
   "cell_type": "code",
   "execution_count": null,
   "id": "a7141705",
   "metadata": {},
   "outputs": [],
   "source": [
    "### Set global flag whether to save plots to files or not\n",
    "writefiles = 1\n",
    "\n",
    "if writefiles:\n",
    "    print(\"Writing output files!\")\n",
    "else:\n",
    "    print(\"Leaving files alone!\")\n"
   ]
  },
  {
   "cell_type": "code",
   "execution_count": null,
   "id": "b52d5dc0",
   "metadata": {},
   "outputs": [],
   "source": [
    "### Set global flag whether to print debug messages while running code\n",
    "showdebug = 1\n",
    "\n",
    "if showdebug:\n",
    "    print(\"Showing debug messages!\")\n",
    "else:\n",
    "    print(\"No debug messages will be shown!\")"
   ]
  },
  {
   "cell_type": "markdown",
   "id": "6d4932ce",
   "metadata": {},
   "source": [
    "# Load Simulation Data\n"
   ]
  },
  {
   "cell_type": "code",
   "execution_count": null,
   "id": "4c4c8f79",
   "metadata": {},
   "outputs": [],
   "source": [
    "# connect to SQLite database\n",
    "try:\n",
    "    conn = sqlite3.connect('./database_gurobi/dsmdata-sim.sqlite3')\n",
    "    conn_cbc = sqlite3.connect('./database_cbc/dsmdata-sim.sqlite3')\n",
    "    conn_cbc_3200u = sqlite3.connect('./database_cbc_3200u/dsmdata-sim.sqlite3')\n",
    "\n",
    "    print('Connected to database...')\n",
    "except:\n",
    "    print('Database error!')\n",
    "    exit()"
   ]
  },
  {
   "cell_type": "code",
   "execution_count": null,
   "id": "2a03d791",
   "metadata": {},
   "outputs": [],
   "source": [
    "# execute SQL query\n",
    "queryps = open(\"sqls/model_griddraw_comptime_v2.sql\").read()\n",
    "dfps = pd.read_sql_query(queryps, conn)\n",
    "dfps.pvprc = dfps.pvprc*100\n",
    "dfps.bessprc = dfps.bessprc*100\n",
    "dfps.SSR = dfps.SSR*100\n",
    "dfps.SCR = dfps.SCR*100\n",
    "if showdebug: print(dfps.tail())\n"
   ]
  },
  {
   "cell_type": "code",
   "execution_count": null,
   "id": "6895e65a",
   "metadata": {},
   "outputs": [],
   "source": [
    "# execute SQL query\n",
    "queryps = open(\"sqls/model_griddraw_comptime_v1.sql\").read()\n",
    "dfps_cbc = pd.read_sql_query(queryps, conn_cbc)\n",
    "dfps_cbc.pvprc = dfps_cbc.pvprc*100\n",
    "dfps_cbc.bessprc = dfps_cbc.bessprc*100\n",
    "if showdebug: print(dfps_cbc.tail())"
   ]
  },
  {
   "cell_type": "code",
   "execution_count": null,
   "id": "f9162905",
   "metadata": {},
   "outputs": [],
   "source": [
    "# execute SQL query\n",
    "queryps = open(\"sqls/model_griddraw_comptime_v1.sql\").read()\n",
    "dfps_cbc_3200u = pd.read_sql_query(queryps, conn_cbc_3200u)\n",
    "dfps_cbc_3200u.pvprc = dfps_cbc_3200u.pvprc*100\n",
    "dfps_cbc_3200u.bessprc = dfps_cbc_3200u.bessprc*100\n",
    "if showdebug: print(dfps_cbc_3200u.tail())"
   ]
  },
  {
   "cell_type": "markdown",
   "id": "0821550a",
   "metadata": {},
   "source": [
    "# Analysis"
   ]
  },
  {
   "cell_type": "markdown",
   "id": "3306d967",
   "metadata": {},
   "source": [
    "## Peakshaving"
   ]
  },
  {
   "cell_type": "markdown",
   "id": "b8ccc559",
   "metadata": {},
   "source": [
    "### PAPR & Standard Deviation"
   ]
  },
  {
   "cell_type": "code",
   "execution_count": null,
   "id": "9eae659d",
   "metadata": {},
   "outputs": [],
   "source": [
    "dfps_pivot = dfps.pivot_table(values=\"GridDraw\", index=[\"pvprc\", \"bessprc\"], columns=\"model\", aggfunc=[\"mean\", \"std\", \"max\", util.papr])\n",
    "if showdebug: print(dfps_pivot.head())"
   ]
  },
  {
   "cell_type": "code",
   "execution_count": null,
   "id": "21f8a5b1",
   "metadata": {},
   "outputs": [],
   "source": [
    "# Translation dictionaries for plotting\n",
    "model_desc = {}\n",
    "model_desc[\"direct\"] = \"Direct Charging\"\n",
    "model_desc[\"rule\"] = \"Rule-based Charging\"\n",
    "model_desc[\"pred\"] = \"Predictive Charging\"\n",
    "model_desc[\"stoch\"] = \"Stochastic Charging\"\n",
    "model_desc[\"perfect\"] = \"Perfect Information\"\n",
    "\n",
    "model_abbr = {}\n",
    "model_abbr[\"direct\"] = \"Direct\"\n",
    "model_abbr[\"rule\"] = \"Rule-based\"\n",
    "model_abbr[\"pred\"] = \"Predictive\"\n",
    "model_abbr[\"stoch\"] = \"Stochastic\"\n",
    "model_abbr[\"perfect\"] = \"Perfect\"\n",
    "\n",
    "metric_desc = {}\n",
    "metric_desc[\"max\"] = \"Maximum Grid Draw [kW]\"\n",
    "metric_desc[\"mean\"] = \"Average Grid Draw [kW]\"\n",
    "metric_desc[\"papr\"] = \"Peak-to-Average Power Ratio\"\n",
    "metric_desc[\"std\"] = \"Standard Deviation\"\n",
    "\n",
    "variable_desc = {}\n",
    "variable_desc[\"pvprc\"] = \"PV size [%]\"\n",
    "variable_desc[\"bessprc\"] = \"BESS size [%]\""
   ]
  },
  {
   "cell_type": "code",
   "execution_count": null,
   "id": "415f7430",
   "metadata": {},
   "outputs": [],
   "source": [
    "models = ['direct', 'rule', 'pred', 'stoch', 'perfect']\n",
    "metrics = ['max', 'mean', 'std', 'papr']\n"
   ]
  },
  {
   "cell_type": "code",
   "execution_count": null,
   "id": "449db2ed",
   "metadata": {},
   "outputs": [],
   "source": [
    "for model in models: #list(model_desc.keys()):\n",
    "    for metric in metrics: #list(metric_desc.keys()):\n",
    "        if showdebug: print(\"Working on model\", model, \"and metric\", metric)\n",
    "        label = model + \"_\" + metric\n",
    "        my_data = np.array(dfps_pivot.loc[:,(metric)].reset_index()[[\"pvprc\", \"bessprc\", model]])\n",
    "        if my_data[:,2].std() == 0:\n",
    "            myplot = plot.contour_plot(mydata = my_data, order = 0, xlabel=variable_desc[\"pvprc\"], ylabel=variable_desc[\"bessprc\"], zlabel = metric_desc[metric]) #, title = model_desc[model])\n",
    "        else:\n",
    "            myplot = plot.contour_plot(mydata = my_data, order = 2, xlabel=variable_desc[\"pvprc\"], ylabel=variable_desc[\"bessprc\"], zlabel = metric_desc[metric]) #, title = model_desc[model])\n",
    "        if writefiles:\n",
    "            myplot.savefig(\"output/peakshaving_contour_\"+label+\".png\",\n",
    "                           bbox_inches='tight', dpi=300)\n",
    "            plt.close(myplot)\n",
    "        #if model in  [\"direct\", \"rule\"] and metric == \"max\":\n",
    "        if my_data[:,2].std() == 0:\n",
    "            mysurf = plot.surface_plot(mydata = my_data, order = 0, xlabel=variable_desc[\"pvprc\"], ylabel=variable_desc[\"bessprc\"], zlabel = metric_desc[metric]) #, title = model_desc[model])\n",
    "        else:\n",
    "            mysurf = plot.surface_plot(mydata = my_data, order = 2, xlabel=variable_desc[\"pvprc\"], ylabel=variable_desc[\"bessprc\"], zlabel = metric_desc[metric]) #, title = model_desc[model])\n",
    "        if writefiles:\n",
    "            mysurf.savefig(\"output/peakshaving_surface_\"+label+\".png\",\n",
    "                           bbox_inches='tight', dpi=300)\n",
    "            plt.close(mysurf)"
   ]
  },
  {
   "cell_type": "code",
   "execution_count": null,
   "id": "6668da48",
   "metadata": {},
   "outputs": [],
   "source": [
    "dfps_pivot.round(2)\n"
   ]
  },
  {
   "cell_type": "code",
   "execution_count": null,
   "id": "4c9c1543",
   "metadata": {},
   "outputs": [],
   "source": [
    "dfps_pivot_pretty = dfps_pivot.round(2).copy()\n",
    "dfps_pivot_pretty.index.names = [\"PV %\", \"BESS %\"]\n",
    "dfps_pivot_pretty.columns.set_levels([\"Average\", \"Std. Dev.\", \"Maximum\", \"PAPR\"], level=0, inplace=True)\n",
    "dfps_pivot_pretty.columns.set_levels([\"Direct\", \"Perfect\", \"Predictive\", \"Rule-based\", \"Stochastic\"], level=1, inplace=True)\n",
    "#dfps_pivot_pretty.to_latex(buf=\"output/peakshaving_results.tex\", bold_rows=True)\n",
    "if writefiles:\n",
    "    dfps_pivot_pretty.loc[:, [\"Maximum\", \"Average\"]].to_latex(\n",
    "        buf=\"output/peakshaving_results1.tex\", bold_rows=True)\n",
    "    dfps_pivot_pretty.loc[:, [\"Std. Dev.\", \"PAPR\"]].to_latex(\n",
    "        buf=\"output/peakshaving_results2.tex\", bold_rows=True)\n"
   ]
  },
  {
   "cell_type": "code",
   "execution_count": null,
   "id": "8350f6ff",
   "metadata": {},
   "outputs": [],
   "source": [
    "list(model_abbr.keys())\n"
   ]
  },
  {
   "cell_type": "code",
   "execution_count": null,
   "id": "d5f84fe4",
   "metadata": {},
   "outputs": [],
   "source": [
    "import seaborn as sns\n",
    "import matplotlib.pyplot as plt\n",
    "plt.style.use(\"ggplot\")\n",
    "\n",
    "f, ax = plt.subplots()\n",
    "sns.violinplot(data=dfps, x=\"model\", y=\"GridDraw\", order=list(model_abbr.keys()),\n",
    "               alpha=1, bw=.2, cut=1, linewidth=2)\n",
    "ax.set_xlabel(\"Charging Strategy\")\n",
    "ax.set_ylabel(\"Grid Draw [kW]\")\n",
    "ax.set_xticklabels(list(model_abbr.values()))\n",
    "\n",
    "if writefiles:\n",
    "    plt.savefig(\"output/GridDraw_violin.png\",\n",
    "                bbox_inches='tight', dpi=300)\n",
    "    #plt.close()"
   ]
  },
  {
   "cell_type": "markdown",
   "id": "f1866771",
   "metadata": {},
   "source": [
    "## Computation Time"
   ]
  },
  {
   "cell_type": "markdown",
   "id": "5cfc63d2",
   "metadata": {},
   "source": [
    "### Gurobi"
   ]
  },
  {
   "cell_type": "code",
   "execution_count": null,
   "id": "945b1a96",
   "metadata": {},
   "outputs": [],
   "source": [
    "dfrt_pivot = dfps.pivot_table(values=\"runningtime\",  index=\"model\", aggfunc=[\"mean\", \"std\", \"max\"]).round(3)\n",
    "if showdebug: print(dfrt_pivot.head())"
   ]
  },
  {
   "cell_type": "code",
   "execution_count": null,
   "id": "62278683",
   "metadata": {},
   "outputs": [],
   "source": [
    "import seaborn as sns\n",
    "import matplotlib.pyplot as plt\n",
    "plt.style.use(\"ggplot\")\n",
    "\n",
    "# models = [\"Direct\", \"Rule-based\", \"Predictive\", \"Stochastic\", \"Perfect\"]\n",
    "\n",
    "f, ax = plt.subplots()\n",
    "sns.violinplot(data=dfps, x=\"model\", y=\"runningtime\", order=list(model_abbr.keys()),\n",
    "               alpha=1, bw=.25, cut=1, linewidth=2)\n",
    "ax.set_xlabel(\"Charging Strategy\")\n",
    "ax.set_ylabel(\"Computation Time [s]\")\n",
    "ax.set_xticklabels(list(model_abbr.values()))\n",
    "ax.set_yscale(\"log\")\n",
    "\n",
    "if writefiles:\n",
    "    plt.savefig(\"output/runningtime_violin.png\",\n",
    "                bbox_inches='tight', dpi=300)\n",
    "    #plt.close()\n"
   ]
  },
  {
   "cell_type": "markdown",
   "id": "599ceda8",
   "metadata": {},
   "source": [
    "### CBC\n"
   ]
  },
  {
   "cell_type": "code",
   "execution_count": null,
   "id": "4a2f5030",
   "metadata": {},
   "outputs": [],
   "source": [
    "dfrt_pivot_cbc = dfps_cbc.pivot_table(values=\"runningtime\",  index=\"model\", aggfunc=[\"mean\", \"std\", \"max\"]).round(3)\n",
    "if showdebug: print(dfrt_pivot_cbc.head())"
   ]
  },
  {
   "cell_type": "code",
   "execution_count": null,
   "id": "e57a4338",
   "metadata": {},
   "outputs": [],
   "source": [
    "import seaborn as sns\n",
    "import matplotlib.pyplot as plt\n",
    "plt.style.use(\"ggplot\")\n",
    "\n",
    "f, ax = plt.subplots()\n",
    "sns.violinplot(data=dfps_cbc, x=\"model\", y=\"runningtime\", order=list(model_abbr.keys()),\n",
    "               alpha=1, bw=.2, cut=1, linewidth=2)\n",
    "ax.set_xlabel(\"Charging Strategy\")\n",
    "ax.set_ylabel(\"Computation Time [s]\")\n",
    "ax.set_xticklabels(list(model_abbr.values()))\n",
    "ax.set_yscale(\"log\")\n",
    "\n",
    "if writefiles:\n",
    "    plt.savefig(\"output/runningtime_violin_cbc.png\",\n",
    "                bbox_inches='tight', dpi=300)\n",
    "    #plt.close()\n"
   ]
  },
  {
   "cell_type": "markdown",
   "id": "35a95c92",
   "metadata": {},
   "source": [
    "### CBC on Ryzen 3 3200U"
   ]
  },
  {
   "cell_type": "code",
   "execution_count": null,
   "id": "81ccaf99",
   "metadata": {},
   "outputs": [],
   "source": [
    "dfrt_pivot_cbc_3200u = dfps_cbc_3200u.pivot_table(values=\"runningtime\",  index=\"model\", aggfunc=[\"mean\", \"std\", \"max\"]).round(3)\n",
    "if showdebug: print(dfrt_pivot_cbc_3200u.head())"
   ]
  },
  {
   "cell_type": "code",
   "execution_count": null,
   "id": "e453aed0",
   "metadata": {},
   "outputs": [],
   "source": [
    "import seaborn as sns\n",
    "import matplotlib.pyplot as plt\n",
    "plt.style.use(\"ggplot\")\n",
    "\n",
    "f, ax = plt.subplots()\n",
    "sns.violinplot(data=dfps_cbc_3200u, x=\"model\", y=\"runningtime\", order=list(model_abbr.keys()),\n",
    "               alpha=1, bw=.2, cut=1, linewidth=2)\n",
    "ax.set_xlabel(\"Charging Strategy\")\n",
    "ax.set_ylabel(\"Computation Time [s]\")\n",
    "ax.set_xticklabels(list(model_abbr.values()))\n",
    "ax.set_yscale(\"log\")\n",
    "\n",
    "if writefiles:\n",
    "    plt.savefig(\"output/runningtime_violin_cbc_3200u.png\",\n",
    "                bbox_inches='tight', dpi=300)\n",
    "    #plt.close()\n"
   ]
  },
  {
   "cell_type": "code",
   "execution_count": null,
   "id": "95365b64",
   "metadata": {},
   "outputs": [],
   "source": [
    "dfrt_pivot.merge(dfrt_pivot_cbc, left_index=True, right_index=True, suffixes=[\"_i7-Gurobi\", \"_i7-CBC\"]).round(3)"
   ]
  },
  {
   "cell_type": "code",
   "execution_count": null,
   "id": "ccc7bc3d",
   "metadata": {},
   "outputs": [],
   "source": [
    "dfps[\"env\"] = \"Gurobi on i7\"\n",
    "dfps_cbc[\"env\"] = \"CBC on i7\"\n",
    "dfps_cbc_3200u[\"env\"] = \"CBC on 3200U\"\n",
    "\n",
    "dfrt_all = pd.concat([dfps, dfps_cbc, dfps_cbc_3200u])\n",
    "dfrt_all\n",
    "\n",
    "dfrt_pivot_all = dfrt_all.pivot_table(values=\"runningtime\",  index=\"model\", columns=[\"env\"], aggfunc=[\"mean\", \"std\", \"max\"]).round(3)\n",
    "dfrt_pivot_all.columns.names = [\"Metric\", \"CPU\"]\n",
    "dfrt_pivot_all.index = list(model_abbr.values())\n",
    "dfrt_pivot_all.index.name = \"strategy\"\n",
    "if showdebug: print(dfrt_pivot_all.head())"
   ]
  },
  {
   "cell_type": "code",
   "execution_count": null,
   "id": "102f97cc",
   "metadata": {},
   "outputs": [],
   "source": [
    "if writefiles:\n",
    "    dfrt_pivot_all.to_latex(buf=\"output/comptime_results.tex\", bold_rows=True)"
   ]
  },
  {
   "cell_type": "markdown",
   "id": "2b5f2599",
   "metadata": {},
   "source": [
    "## Charging Comfort\n"
   ]
  },
  {
   "cell_type": "code",
   "execution_count": null,
   "id": "53781148",
   "metadata": {},
   "outputs": [],
   "source": [
    "# execute SQL query\n",
    "querycc = open(\"sqls/model_charging_comfort_v2.sql\").read()\n",
    "dfcc = pd.read_sql_query(querycc, conn)\n",
    "dfcc.pvprc = dfcc.pvprc * 100\n",
    "dfcc.bessprc = dfcc.bessprc * 100\n",
    "if showdebug:\n",
    "    print(dfcc.head())\n"
   ]
  },
  {
   "cell_type": "code",
   "execution_count": null,
   "id": "15de0ba1",
   "metadata": {},
   "outputs": [],
   "source": [
    "c0 = config.varpvbess_1()\n",
    "c0[\"E_EV_MAX\"]\n",
    "#dfcc['SOCperc']=round(dfcc.EVSOC/c0[\"E_EV_MAX\"],2)\n",
    "dfcc['SOCperc']=round(100*dfcc.EVSOC/c0[\"E_EV_MAX\"],0)\n",
    "dfcc[dfcc.model == \"stoch\"]"
   ]
  },
  {
   "cell_type": "code",
   "execution_count": null,
   "id": "61dd5b82",
   "metadata": {},
   "outputs": [],
   "source": [
    "models"
   ]
  },
  {
   "cell_type": "code",
   "execution_count": null,
   "id": "15c94636",
   "metadata": {},
   "outputs": [],
   "source": [
    "np.array(dfcc.loc[dfcc.model == \"stoch\"].reset_index()[[\"pvprc\", \"bessprc\", \"SOCperc\"]])"
   ]
  },
  {
   "cell_type": "code",
   "execution_count": null,
   "id": "b263e33f",
   "metadata": {},
   "outputs": [],
   "source": [
    "for model in models: #list(model_desc.keys()):\n",
    "    if showdebug: print(\"Working on model\", model)\n",
    "    label = model\n",
    "    my_data = np.array(dfcc.loc[dfcc.model == model].reset_index()[[\"pvprc\", \"bessprc\", \"SOCperc\"]])\n",
    "    myplot = plot.contour_plot(mydata = my_data, order = 2, xlabel=variable_desc[\"pvprc\"], ylabel=variable_desc[\"bessprc\"], zlabel = \"Satisfaction [%]\", color=\"green\") #, title = model_desc[model])\n",
    "    if writefiles:\n",
    "        myplot.savefig(\"output/chargingcomfort_contour_\"+label+\".png\",\n",
    "                        bbox_inches='tight', dpi=300)\n",
    "        plt.close(myplot)\n",
    "    mysurf = plot.surface_plot(mydata = my_data, order = 2, xlabel=variable_desc[\"pvprc\"], ylabel=variable_desc[\"bessprc\"], zlabel = \"Satisfaction [%]\", color=\"green\") #, title = model_desc[model])\n",
    "    if writefiles:\n",
    "        mysurf.savefig(\"output/chargingcomfort_surface_\"+label+\".png\",\n",
    "                        bbox_inches='tight', dpi=300)\n",
    "        plt.close(mysurf)"
   ]
  },
  {
   "cell_type": "code",
   "execution_count": null,
   "id": "5ea54a7e",
   "metadata": {},
   "outputs": [],
   "source": [
    "import seaborn as sns\n",
    "import matplotlib.pyplot as plt\n",
    "plt.style.use(\"ggplot\")\n",
    "\n",
    "f, ax = plt.subplots()\n",
    "sns.violinplot(data=dfcc, x=\"model\", y=\"SOCperc\", order=list(model_abbr.keys()),\n",
    "               alpha=1, bw=1, cut=1, linewidth=2)\n",
    "ax.set_xlabel(\"Charging Strategy\")\n",
    "ax.set_ylabel(\"Satisfaction [%]\")\n",
    "ax.set_xticklabels(list(model_abbr.values()))\n",
    "\n",
    "if writefiles:\n",
    "    plt.savefig(\"output/chargingcomfort_violin.png\",\n",
    "                bbox_inches='tight', dpi=300)\n",
    "    #plt.close()\n"
   ]
  },
  {
   "cell_type": "markdown",
   "id": "7d8d5172",
   "metadata": {},
   "source": [
    "## SSR & SCR"
   ]
  },
  {
   "cell_type": "code",
   "execution_count": null,
   "id": "028844b7",
   "metadata": {},
   "outputs": [],
   "source": [
    "dfps.loc[(dfps.pvprc > 0) & (dfps.period == 0)]"
   ]
  },
  {
   "cell_type": "code",
   "execution_count": null,
   "id": "f6036fbb",
   "metadata": {},
   "outputs": [],
   "source": [
    "pvmetrics = [\"SSR\", \"SCR\"]\n",
    "\n",
    "pvmetric_desc = {}\n",
    "pvmetric_desc[\"SSR\"] = \"Self-sufficiency Rate [%]\"\n",
    "pvmetric_desc[\"SCR\"] = \"Self-consumption Rate [%]\"\n"
   ]
  },
  {
   "cell_type": "code",
   "execution_count": null,
   "id": "f3ceb375",
   "metadata": {},
   "outputs": [],
   "source": [
    "np.array(dfps.loc[dfps[\"model\"] == \"stoch\"].reset_index()[[\"pvprc\", \"bessprc\", \"SSR\"]])"
   ]
  },
  {
   "cell_type": "code",
   "execution_count": null,
   "id": "86cbb494",
   "metadata": {},
   "outputs": [],
   "source": [
    "for model in models:  # list(model_desc.keys()):\n",
    "    for metric in pvmetrics:  # list(metric_desc.keys()):\n",
    "        if showdebug:\n",
    "            print(\"Working on model\", model, \"and metric\", metric)\n",
    "        label = model + \"_\" + metric\n",
    "        my_data = np.array(dfps.loc[(dfps[\"model\"] == model) & (dfps.period == 0) & (dfps.pvprc > 0)].reset_index()[[\"pvprc\", \"bessprc\", metric]])\n",
    "\n",
    "        if my_data[:, 2].std() == 0:\n",
    "            #myplot = plot.contour_plot(mydata=my_data, order=0, xlabel=variable_desc[\"pvprc\"], ylabel=variable_desc[\"bessprc\"], zlabel=pvmetric_desc[metric], title=model_desc[model], color=\"yellow\")\n",
    "            myplot = plot.contour_plot(mydata=my_data, order=0, xlabel=variable_desc[\"pvprc\"], ylabel=variable_desc[\"bessprc\"], zlabel=pvmetric_desc[metric], color=\"yellow\")\n",
    "        else:\n",
    "            #myplot = plot.contour_plot(mydata=my_data, order=2, xlabel=variable_desc[\"pvprc\"], ylabel=variable_desc[\"bessprc\"], zlabel=pvmetric_desc[metric], title=model_desc[model], color=\"yellow\")\n",
    "            myplot = plot.contour_plot(mydata=my_data, order=2, xlabel=variable_desc[\"pvprc\"], ylabel=variable_desc[\"bessprc\"], zlabel=pvmetric_desc[metric], color=\"yellow\")\n",
    "        if writefiles:\n",
    "            myplot.savefig(\"output/pvmetric_contour_\"+label+\".png\",\n",
    "                           bbox_inches='tight', dpi=300)\n",
    "            plt.close(myplot)\n",
    "        if my_data[:, 2].std() == 0:\n",
    "            #mysurf = plot.surface_plot(mydata=my_data, order=0, xlabel=variable_desc[\"pvprc\"], ylabel=variable_desc[\"bessprc\"], zlabel=pvmetric_desc[metric], title=model_desc[model], color=\"yellow\")\n",
    "            mysurf = plot.surface_plot(mydata=my_data, order=0, xlabel=variable_desc[\"pvprc\"], ylabel=variable_desc[\"bessprc\"], zlabel=pvmetric_desc[metric], color=\"yellow\")\n",
    "        else:\n",
    "            #mysurf = plot.surface_plot(mydata=my_data, order=2, xlabel=variable_desc[\"pvprc\"], ylabel=variable_desc[\"bessprc\"], zlabel=pvmetric_desc[metric], title=model_desc[model], color=\"yellow\")\n",
    "            mysurf = plot.surface_plot(mydata=my_data, order=2, xlabel=variable_desc[\"pvprc\"], ylabel=variable_desc[\"bessprc\"], zlabel=pvmetric_desc[metric], color=\"yellow\")\n",
    "        if writefiles:\n",
    "            mysurf.savefig(\"output/pvmetric_surface_\"+label+\".png\",\n",
    "                           bbox_inches='tight', dpi=300)\n",
    "            plt.close(mysurf)\n"
   ]
  },
  {
   "cell_type": "markdown",
   "id": "1eae9881",
   "metadata": {},
   "source": [
    "## Summary"
   ]
  },
  {
   "cell_type": "code",
   "execution_count": null,
   "id": "058914fa",
   "metadata": {},
   "outputs": [],
   "source": [
    "# label the configurations\n",
    "dfps[\"config\"] = \"other\"\n",
    "dfps.loc[(dfps.pvprc == 0) & (dfps.bessprc == 0), \"config\"] = \"LVG only\"\n",
    "dfps.loc[(dfps.pvprc == 100) & (dfps.bessprc == 0), \"config\"] = \"LVG + PV\"\n",
    "dfps.loc[(dfps.pvprc == 0) & (dfps.bessprc == 100), \"config\"] = \"LVG + BESS\"\n",
    "dfps.loc[(dfps.pvprc == 100) & (dfps.bessprc == 100), \"config\"] = \"LVG + PV + BESS\"\n",
    "for model in dfps.model.unique():\n",
    "    try:\n",
    "        dfps.loc[(dfps.model == model), \"model\"] = model_abbr[model]\n",
    "    except:\n",
    "        pass\n",
    "dfps"
   ]
  },
  {
   "cell_type": "code",
   "execution_count": null,
   "id": "75a30801",
   "metadata": {},
   "outputs": [],
   "source": [
    "dfps_pivot2 = dfps[dfps.config != \"other\"].pivot_table(values=\"GridDraw\", columns=[\"config\"], index=[\"model\"], aggfunc=[\"max\", \"mean\", \"std\", util.papr])\n",
    "dfps_pivot2.columns.names = [\"Metric\", \"Configuration\"]\n",
    "#dfps_pivot2.index = list(model_abbr.values())\n",
    "dfps_pivot2.index.name = \"Strategy\"\n",
    "if showdebug: print(dfps_pivot2.head())"
   ]
  },
  {
   "cell_type": "code",
   "execution_count": null,
   "id": "b19a8b24",
   "metadata": {},
   "outputs": [],
   "source": [
    "#models = ['direct', 'rule', 'pred', 'stoch', 'perfect']\n",
    "models2 = list(model_abbr.values())\n",
    "models2.reverse()\n",
    "metrics2 = list(model_abbr.keys()) #['max', 'mean', 'std', 'papr']\n",
    "configs = [\"LVG only\", \"LVG + PV\", \"LVG + BESS\", \"LVG + PV + BESS\"]\n",
    "\n"
   ]
  },
  {
   "cell_type": "code",
   "execution_count": null,
   "id": "7e486243",
   "metadata": {},
   "outputs": [],
   "source": [
    "dfps_pivot2[\"mean\"].loc[models2,configs].round(2)"
   ]
  },
  {
   "cell_type": "code",
   "execution_count": null,
   "id": "58caf6dc",
   "metadata": {},
   "outputs": [],
   "source": [
    "# from mpl_toolkits.mplot3d import Axes3D\n",
    "for metric in metrics:  # list(metric_desc.keys()):\n",
    "    if showdebug:\n",
    "        print(\"Working on metric\", metric)\n",
    "    label = metric\n",
    "    plt.style.use(\"default\")\n",
    "    mybar3d = plot.bar3d_plot(dfps_pivot2[metric].loc[models2, configs], xlabel=\"Configuration\", ylabel=\"Model\", zlabel=metric_desc[metric], color=\"rainbow\")\n",
    "    if writefiles:\n",
    "        mybar3d.savefig(\"output/model_summary_bar3d_\"+label+\".png\",\n",
    "                        bbox_inches='tight', dpi=300)\n",
    "        plt.close(mybar3d)\n",
    "        dfps_pivot2[metric].loc[list(model_abbr.values()), configs].round(2).to_latex(\n",
    "            buf=\"output/model_summary_table_\"+label+\".tex\", bold_rows=True)\n",
    "\n"
   ]
  },
  {
   "cell_type": "code",
   "execution_count": null,
   "id": "3c4b1a0a",
   "metadata": {},
   "outputs": [],
   "source": [
    "dfps_pivot2[\"max\"].loc[models2[0:3],configs].mean(axis=1)\n"
   ]
  },
  {
   "cell_type": "code",
   "execution_count": null,
   "id": "a026e651",
   "metadata": {},
   "outputs": [],
   "source": [
    "dfps_pivot3 = dfps_pivot2[\"max\"].loc[models2[0:3],configs].round(2).median(axis=1).round(2)\n",
    "#dfps_pivot3[\"Average\"] = dfps_pivot3.median(axis=1).round(2)\n",
    "dfps_pivot3 = pd.DataFrame(dfps_pivot3)\n",
    "dfps_pivot3.columns = [\"Average\"]\n",
    "dfps_pivot3"
   ]
  },
  {
   "cell_type": "code",
   "execution_count": null,
   "id": "fb9141da",
   "metadata": {},
   "outputs": [],
   "source": [
    "models3 = list(model_abbr.values())[2:]\n",
    "models3\n"
   ]
  },
  {
   "cell_type": "code",
   "execution_count": null,
   "id": "892ca047",
   "metadata": {},
   "outputs": [],
   "source": [
    "dfps_pivot4 = pd.DataFrame(dfps_pivot3.loc[models3, \"Average\"]).T\n",
    "dfps_pivot4[\"VSS\"] = -1 * (dfps_pivot4[\"Stochastic\"] - dfps_pivot4[\"Predictive\"])\n",
    "dfps_pivot4[\"EVPI\"] = -1 * (dfps_pivot4[\"Perfect\"] - dfps_pivot4[\"Stochastic\"])\n",
    "dfps_pivot4.index = [\"Grid Draw Maximum [kW]\"]\n",
    "dfps_pivot4\n"
   ]
  },
  {
   "cell_type": "code",
   "execution_count": null,
   "id": "eb32a86f",
   "metadata": {},
   "outputs": [],
   "source": [
    "if writefiles:\n",
    "    dfps_pivot4.to_latex(\n",
    "        buf=\"output/model_summary_vss_evpi.tex\", bold_rows=True)\n"
   ]
  },
  {
   "cell_type": "code",
   "execution_count": null,
   "id": "6f8bf3d9",
   "metadata": {},
   "outputs": [],
   "source": []
  }
 ],
 "metadata": {
  "kernelspec": {
   "display_name": "Python 3.9.7 ('base')",
   "language": "python",
   "name": "python3"
  },
  "language_info": {
   "codemirror_mode": {
    "name": "ipython",
    "version": 3
   },
   "file_extension": ".py",
   "mimetype": "text/x-python",
   "name": "python",
   "nbconvert_exporter": "python",
   "pygments_lexer": "ipython3",
   "version": "3.9.7"
  },
  "vscode": {
   "interpreter": {
    "hash": "7c39e21a772e99c1a7e3fb7ef3402580462d255e64df51b314942f2f47217269"
   }
  }
 },
 "nbformat": 4,
 "nbformat_minor": 5
}
